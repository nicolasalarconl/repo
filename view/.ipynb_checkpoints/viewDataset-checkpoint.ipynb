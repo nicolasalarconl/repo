{
 "cells": [
  {
   "cell_type": "code",
   "execution_count": null,
   "id": "39e87916",
   "metadata": {},
   "outputs": [],
   "source": [
    "from dataset import Dataset\n",
    "import sys\n",
    "sys.path.append(\"../\")\n",
    "\n",
    "size_figure = 28\n",
    "start = 0 \n",
    "stop = 10\n",
    "device = 0\n",
    "type_psf_gauss = 'psf_gauss_'+str(size_figure)+'x'+str(size_figure)\n",
    "type_psf_real = 'psf_real_'+str(size_figure)+'x'+str(size_figure)\n",
    "data = Dataset(size_figure = size_figure,\n",
    "            device = device)\n",
    "data.create(start,stop)\n",
    "\n",
    "\n"
   ]
  },
  {
   "cell_type": "code",
   "execution_count": null,
   "id": "c714b057",
   "metadata": {},
   "outputs": [],
   "source": [
    "start = 0\n",
    "stop = 10\n",
    "data.view(type_psf_gauss,start,stop)\n",
    "data.info(type_psf_gauss,start,stop)"
   ]
  },
  {
   "cell_type": "code",
   "execution_count": null,
   "id": "a7aa31a4",
   "metadata": {},
   "outputs": [],
   "source": [
    "data.view(type_psf_real,start,stop)\n",
    "data.info(type_psf_real,start,stop)"
   ]
  },
  {
   "cell_type": "code",
   "execution_count": null,
   "id": "36bd6075",
   "metadata": {},
   "outputs": [],
   "source": []
  }
 ],
 "metadata": {
  "kernelspec": {
   "display_name": "Python 3",
   "language": "python",
   "name": "python3"
  },
  "language_info": {
   "codemirror_mode": {
    "name": "ipython",
    "version": 3
   },
   "file_extension": ".py",
   "mimetype": "text/x-python",
   "name": "python",
   "nbconvert_exporter": "python",
   "pygments_lexer": "ipython3",
   "version": "3.9.2"
  }
 },
 "nbformat": 4,
 "nbformat_minor": 5
}
