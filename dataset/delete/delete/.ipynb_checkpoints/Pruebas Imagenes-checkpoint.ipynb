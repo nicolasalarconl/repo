{
 "cells": [
  {
   "cell_type": "code",
   "execution_count": 45,
   "id": "532b51b4",
   "metadata": {},
   "outputs": [],
   "source": [
    "from listEllipses import ListEllipses\n",
    "from paramsEllipses import ParamsEllipses\n",
    "from randomImage import RandomImage\n",
    "from matplotlib import pyplot as plt\n",
    "from auxiliaryFunctions import AuxiliaryFunctions\n",
    "import cupy as cp\n",
    "from cupyx.scipy import ndimage #as ndcupy\n",
    "from astropy.io import fits\n",
    "import cv2\n",
    "from astropy.utils.data import download_file\n",
    "\n",
    "\n",
    "def psf_real(tamX,tamY):\n",
    "        url = 'https://github.com/nicolasalarconl/InterferometryDeepLearning/blob/main/4_hd142_128x128_08.psf.fits?raw=true'\n",
    "        image_link = download_file(url, cache=True )\n",
    "        image = fits.getdata(image_link).astype(cp.float32)\n",
    "        image = cp.reshape(image,[image.shape[2],image.shape[3]]) \n",
    "        image = cv2.resize(cp.asnumpy(image), dsize=(tamX, tamY), interpolation=cv2.INTER_CUBIC)\n",
    "        image = cp.array(image)\n",
    "        return image\n",
    "        \n",
    "def get_psnr(image,mask):\n",
    "        std_value = cp.std(image[mask])\n",
    "        reverse = cp.logical_not(mask)\n",
    "        max_value = cp.max(image[reverse])\n",
    "        print('std_value: '+str(std_value))\n",
    "        print('max_value: '+str(max_value))\n",
    "        psnr = cp.asnumpy((20*cp.log10(max_value/std_value))).item(0) \n",
    "        print('psnr: '+str(psnr))\n",
    "        return psnr\n",
    "    \n",
    "def psf_gauss(tamX,tamY):\n",
    "        x, y = cp.meshgrid(cp.linspace(-1,1,tamX), cp.linspace(-1,1,tamY))\n",
    "        d = cp.sqrt(x*x+y*y)\n",
    "        sigma, mu = 1/(tamX/2), 0.0\n",
    "        gauss = cp.exp(-( (d-mu)**2 / ( 2.0 * sigma**2 ) ) )\n",
    "        return gauss\n",
    "\n",
    "\n",
    "\n",
    "def save_fit(path,image):\n",
    "    hdu_image =fits.PrimaryHDU(cp.asnumpy(image))     \n",
    "    hdu_image.writeto(path,overwrite=True)\n",
    "\n",
    "def save_mask(path,mask):\n",
    "     AuxiliaryFunctions.write_pkl(path,mask) \n",
    "        \n",
    "def save_clean(path_clean,index,size_figure,clean):\n",
    "    AuxiliaryFunctions.make_dir(path_clean)    \n",
    "    path_clean_index = path_clean+'/image_'+str(size_figure)+'x'+str(size_figure)+'_'+str(index)\n",
    "    save_fit(path_clean_index+'.fits',clean.image)\n",
    "    save_mask(path_clean_index+'pkl',clean.mask)\n",
    "    \n",
    "def save_dirty(path_dirty,index,size_figure,type_dirty,dirty):\n",
    "    AuxiliaryFunctions.make_dir(path_dirty)    \n",
    "    path_diry_index = path_clean+'/image_'+str(size_figure)+'x'+str(size_figure)+'_'+str(index)\n",
    "\n",
    "def save_gauss(path)\n",
    "    \n",
    "def save(path_clean,path_dirty,device,size_figure,listEllipses,start,stop):\n",
    "        \n",
    "    \n",
    "        gauss_psf = psf_gauss(size_figure,size_figure)\n",
    "        hdu_image =fits.PrimaryHDU(cp.asnumpy(gauss_psf))     \n",
    "        hdu_image.writeto(path_dirty+'/conv_'+str(self.size_image)+'x'+str(self.size_image)+'_'+str(index)+'.fits'\n",
    "                            overwrite=True)\n",
    "            \n",
    "        real_psf = psf_real(size_figure,size_figure)\n",
    "            \n",
    "        # Save esto .. # \n",
    "        for index in cp.arange(int(start),int(stop),1):\n",
    "            \n",
    "            clean  = RandomImage(list_figures= listEllipses,index_random =start,device = device)\n",
    "            save_clean(path_clean,index,size_figure,clean)\n",
    "            \n",
    "            dirty_gauss = ndimage.convolve(clean.image,gauss_psf,mode='constant', cval=0.0)\n",
    "            save_dirty(path_dirty,index,size_figure,'gauss',dirty_gauss)\n",
    "            \n",
    "            dirty_real = ndimage.convolve(image,real_psf,mode='constant', cval=0.0)\n",
    "            save_dirty(path_dirty,index,size_figure,'real',dirty_real)\n",
    "\n",
    "\n",
    "            \n"
   ]
  },
  {
   "cell_type": "code",
   "execution_count": 47,
   "id": "d9b5af92",
   "metadata": {},
   "outputs": [
    {
     "name": "stdout",
     "output_type": "stream",
     "text": [
      "std_value: 0.0\n",
      "max_value: 1.0\n",
      "psnr: inf\n"
     ]
    }
   ],
   "source": [
    "device = 0\n",
    "start = 1\n",
    "size_figure = 30\n",
    "params= ParamsEllipses(size_figure = size_figure , device = device)\n",
    "listEllipses = ListEllipses(params = params,index_random = start, device = device)\n",
    "randomImage = RandomImage(list_figures= listEllipses,index_random =start,device = device )\n",
    "image = randomImage.image\n",
    "mask = randomImage.mask\n",
    "psnr = get_psnr(image,mask)\n",
    "gauss_psf = psf_gauss(size_figure,size_figure)\n",
    "conv_gauss = ndimage.convolve(image,gauss_psf,mode='constant', cval=0.0)\n",
    "real_psf = psf_real(size_figure,size_figure)\n",
    "conv_real = ndimage.convolve(image,real_psf,mode='constant', cval=0.0)\n"
   ]
  },
  {
   "cell_type": "code",
   "execution_count": 59,
   "id": "d9dfacb5",
   "metadata": {},
   "outputs": [
    {
     "data": {
      "text/plain": [
       "<matplotlib.image.AxesImage at 0x7f9e613ade50>"
      ]
     },
     "execution_count": 59,
     "metadata": {},
     "output_type": "execute_result"
    },
    {
     "data": {
      "image/png": "[encoded data removed]",
      "text/plain": [
       "<Figure size 432x288 with 1 Axes>"
      ]
     },
     "metadata": {
      "needs_background": "light"
     },
     "output_type": "display_data"
    }
   ],
   "source": [
    "plt.imshow(cp.asnumpy(image))"
   ]
  },
  {
   "cell_type": "code",
   "execution_count": 60,
   "id": "1aeb4c0a",
   "metadata": {},
   "outputs": [
    {
     "data": {
      "text/plain": [
       "<matplotlib.image.AxesImage at 0x7f9e6131b460>"
      ]
     },
     "execution_count": 60,
     "metadata": {},
     "output_type": "execute_result"
    },
    {
     "data": {
      "image/png": "[encoded data removed]",
      "text/plain": [
       "<Figure size 432x288 with 1 Axes>"
      ]
     },
     "metadata": {
      "needs_background": "light"
     },
     "output_type": "display_data"
    }
   ],
   "source": [
    "plt.imshow(cp.asnumpy(mask))\n"
   ]
  },
  {
   "cell_type": "code",
   "execution_count": 61,
   "id": "16cf8405",
   "metadata": {},
   "outputs": [
    {
     "data": {
      "text/plain": [
       "<matplotlib.image.AxesImage at 0x7f9e6127c640>"
      ]
     },
     "execution_count": 61,
     "metadata": {},
     "output_type": "execute_result"
    },
    {
     "data": {
      "image/png": "[encoded data removed]",
      "text/plain": [
       "<Figure size 432x288 with 1 Axes>"
      ]
     },
     "metadata": {
      "needs_background": "light"
     },
     "output_type": "display_data"
    }
   ],
   "source": [
    "plt.imshow(cp.asnumpy(1-mask))"
   ]
  },
  {
   "cell_type": "code",
   "execution_count": 62,
   "id": "5ccfb711",
   "metadata": {},
   "outputs": [
    {
     "data": {
      "text/plain": [
       "<matplotlib.image.AxesImage at 0x7f9e6125e700>"
      ]
     },
     "execution_count": 62,
     "metadata": {},
     "output_type": "execute_result"
    },
    {
     "data": {
      "image/png": "[encoded data removed]",
      "text/plain": [
       "<Figure size 432x288 with 1 Axes>"
      ]
     },
     "metadata": {
      "needs_background": "light"
     },
     "output_type": "display_data"
    }
   ],
   "source": [
    "plt.imshow(cp.asnumpy(gauss_psf))"
   ]
  },
  {
   "cell_type": "code",
   "execution_count": 63,
   "id": "3971178a",
   "metadata": {},
   "outputs": [
    {
     "data": {
      "text/plain": [
       "<matplotlib.image.AxesImage at 0x7f9e611bf9d0>"
      ]
     },
     "execution_count": 63,
     "metadata": {},
     "output_type": "execute_result"
    },
    {
     "data": {
      "image/png": "[encoded data removed]",
      "text/plain": [
       "<Figure size 432x288 with 1 Axes>"
      ]
     },
     "metadata": {
      "needs_background": "light"
     },
     "output_type": "display_data"
    }
   ],
   "source": [
    "plt.imshow(cp.asnumpy(conv_gauss))"
   ]
  },
  {
   "cell_type": "code",
   "execution_count": 64,
   "id": "e0502ca3",
   "metadata": {},
   "outputs": [
    {
     "name": "stdout",
     "output_type": "stream",
     "text": [
      "std_value: 0.01214441468557789\n",
      "max_value: 3.7237638543833027\n",
      "psnr: 49.732110874462386\n"
     ]
    }
   ],
   "source": [
    "psnr_gauss = get_psnr(conv_gauss,mask)"
   ]
  },
  {
   "cell_type": "code",
   "execution_count": 65,
   "id": "942c29ac",
   "metadata": {},
   "outputs": [
    {
     "data": {
      "text/plain": [
       "<matplotlib.image.AxesImage at 0x7f9e611a2d00>"
      ]
     },
     "execution_count": 65,
     "metadata": {},
     "output_type": "execute_result"
    },
    {
     "data": {
      "image/png": "[encoded data removed]",
      "text/plain": [
       "<Figure size 432x288 with 1 Axes>"
      ]
     },
     "metadata": {
      "needs_background": "light"
     },
     "output_type": "display_data"
    }
   ],
   "source": [
    "plt.imshow(cp.asnumpy(real_psf))"
   ]
  },
  {
   "cell_type": "code",
   "execution_count": 66,
   "id": "a0d06beb",
   "metadata": {},
   "outputs": [
    {
     "data": {
      "text/plain": [
       "<matplotlib.image.AxesImage at 0x7f9e61106f70>"
      ]
     },
     "execution_count": 66,
     "metadata": {},
     "output_type": "execute_result"
    },
    {
     "data": {
      "image/png": "[encoded data removed]",
      "text/plain": [
       "<Figure size 432x288 with 1 Axes>"
      ]
     },
     "metadata": {
      "needs_background": "light"
     },
     "output_type": "display_data"
    }
   ],
   "source": [
    "plt.imshow(cp.asnumpy(conv_real))"
   ]
  },
  {
   "cell_type": "code",
   "execution_count": 67,
   "id": "fd7767ca",
   "metadata": {},
   "outputs": [
    {
     "name": "stdout",
     "output_type": "stream",
     "text": [
      "std_value: 0.2187656386514177\n",
      "max_value: 0.7829903361168532\n",
      "psnr: 11.075545863734042\n"
     ]
    }
   ],
   "source": [
    "psnr_real = get_psnr(conv_real,mask)"
   ]
  },
  {
   "cell_type": "code",
   "execution_count": null,
   "id": "cc041dab",
   "metadata": {},
   "outputs": [],
   "source": []
  }
 ],
 "metadata": {
  "kernelspec": {
   "display_name": "Python 3",
   "language": "python",
   "name": "python3"
  },
  "language_info": {
   "codemirror_mode": {
    "name": "ipython",
    "version": 3
   },
   "file_extension": ".py",
   "mimetype": "text/x-python",
   "name": "python",
   "nbconvert_exporter": "python",
   "pygments_lexer": "ipython3",
   "version": "3.9.2"
  }
 },
 "nbformat": 4,
 "nbformat_minor": 5
}
