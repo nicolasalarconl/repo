{
 "cells": [
  {
   "cell_type": "code",
   "execution_count": 3,
   "id": "88f85a7a",
   "metadata": {},
   "outputs": [
    {
     "name": "stdout",
     "output_type": "stream",
     "text": [
      "(4, 2, 4, 3, 2, 2, 1, 4, 3, 3, 3, 4, 1, 3, 3, 4, 32)\n"
     ]
    }
   ],
   "source": [
    "from database import DataBase\n",
    "import cupy as cp\n",
    "path_db = 'database.db'\n",
    "db = DataBase(path_db)\n",
    "db.sql_create_params()\n",
    "print(db.get_params_random())"
   ]
  },
  {
   "cell_type": "code",
   "execution_count": null,
   "id": "4bb20450",
   "metadata": {},
   "outputs": [],
   "source": []
  },
  {
   "cell_type": "code",
   "execution_count": null,
   "id": "cbe04df3",
   "metadata": {},
   "outputs": [],
   "source": []
  }
 ],
 "metadata": {
  "kernelspec": {
   "display_name": "Python 3",
   "language": "python",
   "name": "python3"
  },
  "language_info": {
   "codemirror_mode": {
    "name": "ipython",
    "version": 3
   },
   "file_extension": ".py",
   "mimetype": "text/x-python",
   "name": "python",
   "nbconvert_exporter": "python",
   "pygments_lexer": "ipython3",
   "version": "3.9.2"
  }
 },
 "nbformat": 4,
 "nbformat_minor": 5
}
