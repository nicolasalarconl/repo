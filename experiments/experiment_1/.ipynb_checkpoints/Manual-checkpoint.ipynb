{
 "cells": [
  {
   "cell_type": "code",
   "execution_count": null,
   "id": "638efd1a",
   "metadata": {},
   "outputs": [],
   "source": [
    "\n",
    "    def view_test(self,net,start,stop,view_size):\n",
    "        device = 0\n",
    "        net.eval()\n",
    "        data = Dataset(size_figure = self.size_figure,\n",
    "                                     device = device\n",
    "                      )        \n",
    "        testLoader = data.test_data(self.type_psf,\n",
    "                                      start,\n",
    "                                      stop,\n",
    "                                      self.perc_train,\n",
    "                                      self.perc_validation,\n",
    "                                      self.perc_test,\n",
    "                                      self.batch_test\n",
    "                                     )\n",
    "        index = 1\n",
    "        fig = plt.figure(figsize=(3,view_size))\n",
    "        for dirty,clean,mask in testLoader: \n",
    "            output = net(dirty,self.devices[0])\n",
    "            ax = fig.add_subplot(view_size,3, index, xticks=[], yticks=[])\n",
    "            plt.imshow(clean.squeeze().numpy())\n",
    "            index = index+1\n",
    "            ax = fig.add_subplot(view_size,3, index, xticks=[], yticks=[])\n",
    "            plt.imshow(dirty.squeeze().numpy())\n",
    "            index = index+1\n",
    "            ax = fig.add_subplot(view_size,3, index, xticks=[], yticks=[])\n",
    "            plt.imshow(output.squeeze(0).squeeze(0).cpu().detach().numpy())\n",
    "            index = index+1\n",
    "            if (view_size*3 <= index):\n",
    "                break'''"
   ]
  }
 ],
 "metadata": {
  "kernelspec": {
   "display_name": "Python 3",
   "language": "python",
   "name": "python3"
  },
  "language_info": {
   "codemirror_mode": {
    "name": "ipython",
    "version": 3
   },
   "file_extension": ".py",
   "mimetype": "text/x-python",
   "name": "python",
   "nbconvert_exporter": "python",
   "pygments_lexer": "ipython3",
   "version": "3.9.2"
  }
 },
 "nbformat": 4,
 "nbformat_minor": 5
}
