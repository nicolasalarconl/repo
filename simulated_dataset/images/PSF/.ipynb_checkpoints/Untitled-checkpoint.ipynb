{
 "cells": [
  {
   "cell_type": "code",
   "execution_count": 1,
   "id": "d37363cf",
   "metadata": {},
   "outputs": [],
   "source": [
    "#import cupy as cp\n",
    "import sys\n",
    "sys.path.append(\"../../scripts\")\n",
    "from auxiliar.save import save_psf\n",
    "\n",
    "#import cupy as cp\n",
    "import cupy as cp\n",
    "from astropy.io import fits\n",
    "from astropy.utils.data import download_file\n",
    "from matplotlib import pyplot as plt\n",
    "import cv2\n",
    "from matplotlib import pyplot as plt\n"
   ]
  },
  {
   "cell_type": "code",
   "execution_count": 43,
   "id": "9e73e99b",
   "metadata": {},
   "outputs": [],
   "source": [
    "def psf_real(size_figure,url):\n",
    "    image_link = download_file(url, cache=True )\n",
    "    image = fits.getdata(image_link).astype(cp.float32)\n",
    "    image = cp.reshape(image,[image.shape[2],image.shape[3]]) \n",
    "    image = cv2.resize(cp.asnumpy(image), dsize=(size_figure,size_figure), interpolation=cv2.INTER_CUBIC)\n",
    "    psf = cp.array(image)\n",
    "    #save_psf(path,TYPE_PSF,cp.asnumpy(psf))\n",
    "    return psf\n",
    "\n",
    "def radius(image):  \n",
    "        value = cp.max(psf)/2\n",
    "        image = image > value\n",
    "        idx,idy = 0,0\n",
    "        minX = SIZE_FIGURE-1\n",
    "        maxX = 0\n",
    "        for row in image:\n",
    "            for px in row:\n",
    "                if (px and idx < minX):\n",
    "                    minX = idx\n",
    "                if (px and idx > maxX):\n",
    "                    maxX = idx\n",
    "                idx = idx+1\n",
    "            idx = 0\n",
    "            idy = idy+1\n",
    "        idx,idy = 0,0\n",
    "        minY = SIZE_FIGURE-1\n",
    "        maxY = 0\n",
    "        for row in image:\n",
    "            for px in row:\n",
    "                if (px and idy < minY):\n",
    "                    minY = idy\n",
    "                if (px and idy > maxY):\n",
    "                    maxY = idy\n",
    "                idx = idx+1\n",
    "            idx = 0\n",
    "            idy = idy+1\n",
    "        Vx=maxX-minX +1\n",
    "        Vy=maxY-minY +1\n",
    "        return Vx,Vy\n",
    "\n",
    "def psf_gauss(tam,sigmX,sigmY):\n",
    "    x, y = cp.meshgrid(cp.linspace(-1,1,tam), cp.linspace(-1,1,tam))\n",
    "    ux,uy = 0,0\n",
    "    \n",
    "    exp = (((x-ux)**2/(2*sigmX)) + ((y-uy)**2/(2*sigmY)))\n",
    "    gauss = cp.exp(exp)\n",
    "    return cp.asnumpy(gauss)\n",
    "    \n",
    "def view(image):\n",
    "    plt.imshow(cp.asnumpy(image))\n",
    "    "
   ]
  },
  {
   "cell_type": "code",
   "execution_count": 44,
   "id": "69b5fca3",
   "metadata": {},
   "outputs": [
    {
     "name": "stdout",
     "output_type": "stream",
     "text": [
      "(28, 28)\n",
      "<class 'numpy.ndarray'>\n"
     ]
    },
    {
     "data": {
      "image/png": "[encoded data removed]",
      "text/plain": [
       "<Figure size 432x288 with 1 Axes>"
      ]
     },
     "metadata": {
      "needs_background": "light"
     },
     "output_type": "display_data"
    }
   ],
   "source": [
    "URL = 'https://github.com/nicolasalarconl/InterferometryDeepLearning/blob/main/4_hd142_128x128_08.psf.fits?raw=true'\n",
    "SIZE_FIGURE = 28\n",
    "psf = psf_real(SIZE_FIGURE,URL)\n",
    "view(psf)\n",
    "\n",
    "psf  = psf_gauss(28,2,2)\n",
    "view(psf)\n",
    "print(psf.shape)\n",
    "print(type(psf))\n"
   ]
  },
  {
   "cell_type": "code",
   "execution_count": 46,
   "id": "4b2ba19c",
   "metadata": {},
   "outputs": [
    {
     "ename": "TypeError",
     "evalue": "twoD_GaussianScaledAmp() missing 1 required positional argument: 'offset'",
     "output_type": "error",
     "traceback": [
      "\u001b[0;31m---------------------------------------------------------------------------\u001b[0m",
      "\u001b[0;31mTypeError\u001b[0m                                 Traceback (most recent call last)",
      "\u001b[0;32m<ipython-input-46-813e6a013201>\u001b[0m in \u001b[0;36m<module>\u001b[0;34m\u001b[0m\n\u001b[1;32m     34\u001b[0m \u001b[0;34m\u001b[0m\u001b[0m\n\u001b[1;32m     35\u001b[0m \u001b[0;31m#calling example: img is your image\u001b[0m\u001b[0;34m\u001b[0m\u001b[0;34m\u001b[0m\u001b[0;34m\u001b[0m\u001b[0m\n\u001b[0;32m---> 36\u001b[0;31m \u001b[0;34m(\u001b[0m\u001b[0mFWHM_x\u001b[0m\u001b[0;34m,\u001b[0m \u001b[0mFWHM_y\u001b[0m\u001b[0;34m)\u001b[0m \u001b[0;34m=\u001b[0m \u001b[0mgetFWHM_GaussianFitScaledAmp\u001b[0m\u001b[0;34m(\u001b[0m\u001b[0mpsf\u001b[0m\u001b[0;34m)\u001b[0m\u001b[0;34m\u001b[0m\u001b[0;34m\u001b[0m\u001b[0m\n\u001b[0m",
      "\u001b[0;32m<ipython-input-46-813e6a013201>\u001b[0m in \u001b[0;36mgetFWHM_GaussianFitScaledAmp\u001b[0;34m(img)\u001b[0m\n\u001b[1;32m     24\u001b[0m     \u001b[0mbg\u001b[0m \u001b[0;34m=\u001b[0m \u001b[0mnp\u001b[0m\u001b[0;34m.\u001b[0m\u001b[0mpercentile\u001b[0m\u001b[0;34m(\u001b[0m\u001b[0mimg\u001b[0m\u001b[0;34m,\u001b[0m\u001b[0;36m5\u001b[0m\u001b[0;34m)\u001b[0m\u001b[0;34m\u001b[0m\u001b[0;34m\u001b[0m\u001b[0m\n\u001b[1;32m     25\u001b[0m     \u001b[0mimg_scaled\u001b[0m \u001b[0;34m=\u001b[0m \u001b[0mnp\u001b[0m\u001b[0;34m.\u001b[0m\u001b[0mclip\u001b[0m\u001b[0;34m(\u001b[0m\u001b[0;34m(\u001b[0m\u001b[0mimg\u001b[0m \u001b[0;34m-\u001b[0m \u001b[0mbg\u001b[0m\u001b[0;34m)\u001b[0m \u001b[0;34m/\u001b[0m \u001b[0;34m(\u001b[0m\u001b[0mimg\u001b[0m\u001b[0;34m.\u001b[0m\u001b[0mmax\u001b[0m\u001b[0;34m(\u001b[0m\u001b[0;34m)\u001b[0m \u001b[0;34m-\u001b[0m \u001b[0mbg\u001b[0m\u001b[0;34m)\u001b[0m\u001b[0;34m,\u001b[0m\u001b[0;36m0\u001b[0m\u001b[0;34m,\u001b[0m\u001b[0;36m1\u001b[0m\u001b[0;34m)\u001b[0m\u001b[0;34m\u001b[0m\u001b[0;34m\u001b[0m\u001b[0m\n\u001b[0;32m---> 26\u001b[0;31m     popt, pcov = opt.curve_fit(twoD_GaussianScaledAmp, (x, y), \n\u001b[0m\u001b[1;32m     27\u001b[0m                                \u001b[0mimg_scaled\u001b[0m\u001b[0;34m.\u001b[0m\u001b[0mravel\u001b[0m\u001b[0;34m(\u001b[0m\u001b[0;34m)\u001b[0m\u001b[0;34m,\u001b[0m \u001b[0mp0\u001b[0m\u001b[0;34m=\u001b[0m\u001b[0minitial_guess\u001b[0m\u001b[0;34m,\u001b[0m\u001b[0;34m\u001b[0m\u001b[0;34m\u001b[0m\u001b[0m\n\u001b[1;32m     28\u001b[0m                                bounds = ((img.shape[1]*0.4, img.shape[0]*0.4, 1, 1, 0.5, -0.1),\n",
      "\u001b[0;32m~/.local/lib/python3.9/site-packages/scipy/optimize/minpack.py\u001b[0m in \u001b[0;36mcurve_fit\u001b[0;34m(f, xdata, ydata, p0, sigma, absolute_sigma, check_finite, bounds, method, jac, **kwargs)\u001b[0m\n\u001b[1;32m    793\u001b[0m             \u001b[0mkwargs\u001b[0m\u001b[0;34m[\u001b[0m\u001b[0;34m'max_nfev'\u001b[0m\u001b[0;34m]\u001b[0m \u001b[0;34m=\u001b[0m \u001b[0mkwargs\u001b[0m\u001b[0;34m.\u001b[0m\u001b[0mpop\u001b[0m\u001b[0;34m(\u001b[0m\u001b[0;34m'maxfev'\u001b[0m\u001b[0;34m,\u001b[0m \u001b[0;32mNone\u001b[0m\u001b[0;34m)\u001b[0m\u001b[0;34m\u001b[0m\u001b[0;34m\u001b[0m\u001b[0m\n\u001b[1;32m    794\u001b[0m \u001b[0;34m\u001b[0m\u001b[0m\n\u001b[0;32m--> 795\u001b[0;31m         res = least_squares(func, p0, jac=jac, bounds=bounds, method=method,\n\u001b[0m\u001b[1;32m    796\u001b[0m                             **kwargs)\n\u001b[1;32m    797\u001b[0m \u001b[0;34m\u001b[0m\u001b[0m\n",
      "\u001b[0;32m~/.local/lib/python3.9/site-packages/scipy/optimize/_lsq/least_squares.py\u001b[0m in \u001b[0;36mleast_squares\u001b[0;34m(fun, x0, jac, bounds, method, ftol, xtol, gtol, x_scale, loss, f_scale, diff_step, tr_solver, tr_options, jac_sparsity, max_nfev, verbose, args, kwargs)\u001b[0m\n\u001b[1;32m    815\u001b[0m         \u001b[0mx0\u001b[0m \u001b[0;34m=\u001b[0m \u001b[0mmake_strictly_feasible\u001b[0m\u001b[0;34m(\u001b[0m\u001b[0mx0\u001b[0m\u001b[0;34m,\u001b[0m \u001b[0mlb\u001b[0m\u001b[0;34m,\u001b[0m \u001b[0mub\u001b[0m\u001b[0;34m)\u001b[0m\u001b[0;34m\u001b[0m\u001b[0;34m\u001b[0m\u001b[0m\n\u001b[1;32m    816\u001b[0m \u001b[0;34m\u001b[0m\u001b[0m\n\u001b[0;32m--> 817\u001b[0;31m     \u001b[0mf0\u001b[0m \u001b[0;34m=\u001b[0m \u001b[0mfun_wrapped\u001b[0m\u001b[0;34m(\u001b[0m\u001b[0mx0\u001b[0m\u001b[0;34m)\u001b[0m\u001b[0;34m\u001b[0m\u001b[0;34m\u001b[0m\u001b[0m\n\u001b[0m\u001b[1;32m    818\u001b[0m \u001b[0;34m\u001b[0m\u001b[0m\n\u001b[1;32m    819\u001b[0m     \u001b[0;32mif\u001b[0m \u001b[0mf0\u001b[0m\u001b[0;34m.\u001b[0m\u001b[0mndim\u001b[0m \u001b[0;34m!=\u001b[0m \u001b[0;36m1\u001b[0m\u001b[0;34m:\u001b[0m\u001b[0;34m\u001b[0m\u001b[0;34m\u001b[0m\u001b[0m\n",
      "\u001b[0;32m~/.local/lib/python3.9/site-packages/scipy/optimize/_lsq/least_squares.py\u001b[0m in \u001b[0;36mfun_wrapped\u001b[0;34m(x)\u001b[0m\n\u001b[1;32m    810\u001b[0m \u001b[0;34m\u001b[0m\u001b[0m\n\u001b[1;32m    811\u001b[0m     \u001b[0;32mdef\u001b[0m \u001b[0mfun_wrapped\u001b[0m\u001b[0;34m(\u001b[0m\u001b[0mx\u001b[0m\u001b[0;34m)\u001b[0m\u001b[0;34m:\u001b[0m\u001b[0;34m\u001b[0m\u001b[0;34m\u001b[0m\u001b[0m\n\u001b[0;32m--> 812\u001b[0;31m         \u001b[0;32mreturn\u001b[0m \u001b[0mnp\u001b[0m\u001b[0;34m.\u001b[0m\u001b[0matleast_1d\u001b[0m\u001b[0;34m(\u001b[0m\u001b[0mfun\u001b[0m\u001b[0;34m(\u001b[0m\u001b[0mx\u001b[0m\u001b[0;34m,\u001b[0m \u001b[0;34m*\u001b[0m\u001b[0margs\u001b[0m\u001b[0;34m,\u001b[0m \u001b[0;34m**\u001b[0m\u001b[0mkwargs\u001b[0m\u001b[0;34m)\u001b[0m\u001b[0;34m)\u001b[0m\u001b[0;34m\u001b[0m\u001b[0;34m\u001b[0m\u001b[0m\n\u001b[0m\u001b[1;32m    813\u001b[0m \u001b[0;34m\u001b[0m\u001b[0m\n\u001b[1;32m    814\u001b[0m     \u001b[0;32mif\u001b[0m \u001b[0mmethod\u001b[0m \u001b[0;34m==\u001b[0m \u001b[0;34m'trf'\u001b[0m\u001b[0;34m:\u001b[0m\u001b[0;34m\u001b[0m\u001b[0;34m\u001b[0m\u001b[0m\n",
      "\u001b[0;32m~/.local/lib/python3.9/site-packages/scipy/optimize/minpack.py\u001b[0m in \u001b[0;36mfunc_wrapped\u001b[0;34m(params)\u001b[0m\n\u001b[1;32m    482\u001b[0m     \u001b[0;32mif\u001b[0m \u001b[0mtransform\u001b[0m \u001b[0;32mis\u001b[0m \u001b[0;32mNone\u001b[0m\u001b[0;34m:\u001b[0m\u001b[0;34m\u001b[0m\u001b[0;34m\u001b[0m\u001b[0m\n\u001b[1;32m    483\u001b[0m         \u001b[0;32mdef\u001b[0m \u001b[0mfunc_wrapped\u001b[0m\u001b[0;34m(\u001b[0m\u001b[0mparams\u001b[0m\u001b[0;34m)\u001b[0m\u001b[0;34m:\u001b[0m\u001b[0;34m\u001b[0m\u001b[0;34m\u001b[0m\u001b[0m\n\u001b[0;32m--> 484\u001b[0;31m             \u001b[0;32mreturn\u001b[0m \u001b[0mfunc\u001b[0m\u001b[0;34m(\u001b[0m\u001b[0mxdata\u001b[0m\u001b[0;34m,\u001b[0m \u001b[0;34m*\u001b[0m\u001b[0mparams\u001b[0m\u001b[0;34m)\u001b[0m \u001b[0;34m-\u001b[0m \u001b[0mydata\u001b[0m\u001b[0;34m\u001b[0m\u001b[0;34m\u001b[0m\u001b[0m\n\u001b[0m\u001b[1;32m    485\u001b[0m     \u001b[0;32melif\u001b[0m \u001b[0mtransform\u001b[0m\u001b[0;34m.\u001b[0m\u001b[0mndim\u001b[0m \u001b[0;34m==\u001b[0m \u001b[0;36m1\u001b[0m\u001b[0;34m:\u001b[0m\u001b[0;34m\u001b[0m\u001b[0;34m\u001b[0m\u001b[0m\n\u001b[1;32m    486\u001b[0m         \u001b[0;32mdef\u001b[0m \u001b[0mfunc_wrapped\u001b[0m\u001b[0;34m(\u001b[0m\u001b[0mparams\u001b[0m\u001b[0;34m)\u001b[0m\u001b[0;34m:\u001b[0m\u001b[0;34m\u001b[0m\u001b[0;34m\u001b[0m\u001b[0m\n",
      "\u001b[0;31mTypeError\u001b[0m: twoD_GaussianScaledAmp() missing 1 required positional argument: 'offset'"
     ]
    }
   ],
   "source": [
    "import numpy as np\n",
    "import scipy.optimize as opt\n",
    "\n",
    "def twoD_GaussianScaledAmp((x, y), xo, yo, sigma_x, sigma_y, amplitude, offset):\n",
    "    \"\"\"Function to fit, returns 2D gaussian function as 1D array\"\"\"\n",
    "    xo = float(xo)\n",
    "    yo = float(yo)    \n",
    "    g = offset + amplitude*np.exp( - (((x-xo)**2)/(2*sigma_x**2) + ((y-yo)**2)/(2*sigma_y**2)))\n",
    "    return g.ravel()\n",
    "\n",
    "def getFWHM_GaussianFitScaledAmp(img):\n",
    "    \"\"\"Get FWHM(x,y) of a blob by 2D gaussian fitting\n",
    "    Parameter:\n",
    "        img - image as numpy array\n",
    "    Returns: \n",
    "        FWHMs in pixels, along x and y axes.\n",
    "    \"\"\"\n",
    "    x = np.linspace(0, img.shape[1], img.shape[1])\n",
    "    y = np.linspace(0, img.shape[0], img.shape[0])\n",
    "    x, y = np.meshgrid(x, y)\n",
    "    #Parameters: xpos, ypos, sigmaX, sigmaY, amp, baseline\n",
    "    initial_guess = (img.shape[1]/2,img.shape[0]/2,10,10,1,0)\n",
    "    # subtract background and rescale image into [0,1], with floor clipping\n",
    "    bg = np.percentile(img,5)\n",
    "    img_scaled = np.clip((img - bg) / (img.max() - bg),0,1)\n",
    "    popt, pcov = opt.curve_fit(twoD_GaussianScaledAmp, (x, y), \n",
    "                               img_scaled.ravel(), p0=initial_guess,\n",
    "                               bounds = ((img.shape[1]*0.4, img.shape[0]*0.4, 1, 1, 0.5, -0.1),\n",
    "                                     (img.shape[1]*0.6, img.shape[0]*0.6, img.shape[1]/2, img.shape[0]/2, 1.5, 0.5)))\n",
    "    xcenter, ycenter, sigmaX, sigmaY, amp, offset = popt[0], popt[1], popt[2], popt[3], popt[4], popt[5]\n",
    "    FWHM_x = np.abs(4*sigmaX*np.sqrt(-0.5*np.log(0.5)))\n",
    "    FWHM_y = np.abs(4*sigmaY*np.sqrt(-0.5*np.log(0.5)))\n",
    "    return (FWHM_x, FWHM_y)\n",
    "\n",
    "#calling example: img is your image\n",
    "(FWHM_x, FWHM_y) = getFWHM_GaussianFitScaledAmp() "
   ]
  },
  {
   "cell_type": "code",
   "execution_count": 27,
   "id": "81338eda",
   "metadata": {},
   "outputs": [
    {
     "name": "stdout",
     "output_type": "stream",
     "text": [
      "2\n",
      "1\n"
     ]
    },
    {
     "data": {
      "image/png": "[encoded data removed]",
      "text/plain": [
       "<Figure size 432x288 with 1 Axes>"
      ]
     },
     "metadata": {
      "needs_background": "light"
     },
     "output_type": "display_data"
    }
   ],
   "source": [
    "dx,dy = radius(psf)\n",
    "print(dx)\n",
    "print(dy)\n",
    "ps = psf_gauss(SIZE_FIGURE,dx,dy)\n",
    "view(ps)"
   ]
  },
  {
   "cell_type": "code",
   "execution_count": 28,
   "id": "36056e0a",
   "metadata": {},
   "outputs": [
    {
     "data": {
      "image/png": "[encoded data removed]",
      "text/plain": [
       "<Figure size 432x288 with 1 Axes>"
      ]
     },
     "metadata": {
      "needs_background": "light"
     },
     "output_type": "display_data"
    }
   ],
   "source": [
    "value = cp.max(psf)/2\n",
    "psf = psf > value\n",
    "view(psf)"
   ]
  },
  {
   "cell_type": "code",
   "execution_count": null,
   "id": "63d3d094",
   "metadata": {},
   "outputs": [],
   "source": []
  },
  {
   "cell_type": "code",
   "execution_count": null,
   "id": "7a1c730d",
   "metadata": {},
   "outputs": [],
   "source": []
  }
 ],
 "metadata": {
  "kernelspec": {
   "display_name": "Python 3",
   "language": "python",
   "name": "python3"
  },
  "language_info": {
   "codemirror_mode": {
    "name": "ipython",
    "version": 3
   },
   "file_extension": ".py",
   "mimetype": "text/x-python",
   "name": "python",
   "nbconvert_exporter": "python",
   "pygments_lexer": "ipython3",
   "version": "3.9.2"
  }
 },
 "nbformat": 4,
 "nbformat_minor": 5
}
