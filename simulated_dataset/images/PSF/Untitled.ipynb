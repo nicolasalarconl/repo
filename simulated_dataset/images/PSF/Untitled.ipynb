{
 "cells": [
  {
   "cell_type": "code",
   "execution_count": 1,
   "id": "d37363cf",
   "metadata": {},
   "outputs": [],
   "source": [
    "#import cupy as cp\n",
    "import sys\n",
    "sys.path.append(\"../../scripts\")\n",
    "from auxiliar.save import save_psf\n",
    "\n",
    "#import cupy as cp\n",
    "import cupy as cp\n",
    "from astropy.io import fits\n",
    "from astropy.utils.data import download_file\n",
    "from matplotlib import pyplot as plt\n",
    "import cv2\n",
    "from matplotlib import pyplot as plt\n"
   ]
  },
  {
   "cell_type": "code",
   "execution_count": 43,
   "id": "9e73e99b",
   "metadata": {},
   "outputs": [],
   "source": [
    "def psf_real(size_figure,url):\n",
    "    image_link = download_file(url, cache=True )\n",
    "    image = fits.getdata(image_link).astype(cp.float32)\n",
    "    image = cp.reshape(image,[image.shape[2],image.shape[3]]) \n",
    "    image = cv2.resize(cp.asnumpy(image), dsize=(size_figure,size_figure), interpolation=cv2.INTER_CUBIC)\n",
    "    psf = cp.array(image)\n",
    "    #save_psf(path,TYPE_PSF,cp.asnumpy(psf))\n",
    "    return psf\n",
    "\n",
    "def radius(image):  \n",
    "        value = cp.max(psf)/2\n",
    "        image = image > value\n",
    "        idx,idy = 0,0\n",
    "        minX = SIZE_FIGURE-1\n",
    "        maxX = 0\n",
    "        for row in image:\n",
    "            for px in row:\n",
    "                if (px and idx < minX):\n",
    "                    minX = idx\n",
    "                if (px and idx > maxX):\n",
    "                    maxX = idx\n",
    "                idx = idx+1\n",
    "            idx = 0\n",
    "            idy = idy+1\n",
    "        idx,idy = 0,0\n",
    "        minY = SIZE_FIGURE-1\n",
    "        maxY = 0\n",
    "        for row in image:\n",
    "            for px in row:\n",
    "                if (px and idy < minY):\n",
    "                    minY = idy\n",
    "                if (px and idy > maxY):\n",
    "                    maxY = idy\n",
    "                idx = idx+1\n",
    "            idx = 0\n",
    "            idy = idy+1\n",
    "        Vx=maxX-minX +1\n",
    "        Vy=maxY-minY +1\n",
    "        return Vx,Vy\n",
    "\n",
    "def psf_gauss(tam,sigmX,sigmY):\n",
    "    x, y = cp.meshgrid(cp.linspace(-1,1,tam), cp.linspace(-1,1,tam))\n",
    "    ux,uy = 0,0\n",
    "    \n",
    "    exp = (((x-ux)**2/(2*sigmX)) + ((y-uy)**2/(2*sigmY)))\n",
    "    gauss = cp.exp(exp)\n",
    "    return cp.asnumpy(gauss)\n",
    "    \n",
    "def view(image):\n",
    "    plt.imshow(cp.asnumpy(image))\n",
    "    "
   ]
  },
  {
   "cell_type": "code",
   "execution_count": 44,
   "id": "69b5fca3",
   "metadata": {},
   "outputs": [
    {
     "name": "stdout",
     "output_type": "stream",
     "text": [
      "(28, 28)\n",
      "<class 'numpy.ndarray'>\n"
     ]
    },
    {
     "data": {
      "image/png": "[encoded data removed]",
      "text/plain": [
       "<Figure size 432x288 with 1 Axes>"
      ]
     },
     "metadata": {
      "needs_background": "light"
     },
     "output_type": "display_data"
    }
   ],
   "source": [
    "URL = 'https://github.com/nicolasalarconl/InterferometryDeepLearning/blob/main/4_hd142_128x128_08.psf.fits?raw=true'\n",
    "SIZE_FIGURE = 28\n",
    "psf = psf_real(SIZE_FIGURE,URL)\n",
    "view(psf)\n",
    "\n",
    "psf  = psf_gauss(28,2,2)\n",
    "view(psf)\n",
    "print(psf.shape)\n",
    "print(type(psf))\n"
   ]
  },
  {
   "cell_type": "code",
   "execution_count": 59,
   "id": "906730b5",
   "metadata": {},
   "outputs": [
    {
     "ename": "ValueError",
     "evalue": "too many values to unpack (expected 2)",
     "output_type": "error",
     "traceback": [
      "\u001b[0;31m---------------------------------------------------------------------------\u001b[0m",
      "\u001b[0;31mValueError\u001b[0m                                Traceback (most recent call last)",
      "\u001b[0;32m<ipython-input-59-032a31195981>\u001b[0m in \u001b[0;36m<module>\u001b[0;34m\u001b[0m\n\u001b[1;32m      1\u001b[0m \u001b[0mdata\u001b[0m \u001b[0;34m=\u001b[0m \u001b[0mpsf\u001b[0m \u001b[0;31m# np.array([[1, 2, 5, 91, 27], [5, 41, 80, 66, 52], [56, 101, 122, 115, 9], [21, 55, 81, 5, 7], [90, 22, 37, 24, 2]])\u001b[0m\u001b[0;34m\u001b[0m\u001b[0;34m\u001b[0m\u001b[0m\n\u001b[1;32m      2\u001b[0m \u001b[0mamp\u001b[0m \u001b[0;34m=\u001b[0m \u001b[0mnp\u001b[0m\u001b[0;34m.\u001b[0m\u001b[0mmax\u001b[0m\u001b[0;34m(\u001b[0m\u001b[0mdata\u001b[0m\u001b[0;34m)\u001b[0m\u001b[0;34m\u001b[0m\u001b[0;34m\u001b[0m\u001b[0m\n\u001b[0;32m----> 3\u001b[0;31m \u001b[0mypix\u001b[0m\u001b[0;34m,\u001b[0m \u001b[0mxpix\u001b[0m \u001b[0;34m=\u001b[0m \u001b[0mpsf\u001b[0m\u001b[0;34m[\u001b[0m\u001b[0mpsf\u001b[0m \u001b[0;34m==\u001b[0m \u001b[0mamp\u001b[0m\u001b[0;34m]\u001b[0m\u001b[0;34m\u001b[0m\u001b[0;34m\u001b[0m\u001b[0m\n\u001b[0m\u001b[1;32m      4\u001b[0m \u001b[0mx_range\u001b[0m \u001b[0;34m=\u001b[0m \u001b[0mnp\u001b[0m\u001b[0;34m.\u001b[0m\u001b[0mtake\u001b[0m\u001b[0;34m(\u001b[0m\u001b[0mdata\u001b[0m\u001b[0;34m,\u001b[0m \u001b[0mypix\u001b[0m\u001b[0;34m[\u001b[0m\u001b[0;36m0\u001b[0m\u001b[0;34m]\u001b[0m\u001b[0;34m,\u001b[0m \u001b[0maxis\u001b[0m\u001b[0;34m=\u001b[0m\u001b[0;36m0\u001b[0m\u001b[0;34m)\u001b[0m\u001b[0;34m\u001b[0m\u001b[0;34m\u001b[0m\u001b[0m\n\u001b[1;32m      5\u001b[0m \u001b[0mprint\u001b[0m\u001b[0;34m(\u001b[0m\u001b[0mx_range\u001b[0m\u001b[0;34m)\u001b[0m\u001b[0;34m\u001b[0m\u001b[0;34m\u001b[0m\u001b[0m\n",
      "\u001b[0;31mValueError\u001b[0m: too many values to unpack (expected 2)"
     ]
    }
   ],
   "source": [
    "data = psf # np.array([[1, 2, 5, 91, 27], [5, 41, 80, 66, 52], [56, 101, 122, 115, 9], [21, 55, 81, 5, 7], [90, 22, 37, 24, 2]])\n",
    "amp = np.max(data)\n",
    "ypix, xpix = psf[psf == amp]\n",
    "x_range = np.take(data, ypix[0], axis=0)\n",
    "print(x_range)\n",
    "y_range = np.take(data, xpix[0], axis=1)\n",
    "print(y_range)\n",
    "\n",
    "half_max = amp/2.0\n",
    "d_x = x_range - half_max\n",
    "d_y = y_range - half_max\n",
    "indices_x = np.where(d_x>0)[0]\n",
    "indices_y = np.where(d_y>0)[0]\n",
    "\n",
    "# FMHM in x and y - simply counts how many pixels are within half the max in both directions\n",
    "width_x = len(indices_x)\n",
    "width_y = len(indices_y)"
   ]
  },
  {
   "cell_type": "code",
   "execution_count": 50,
   "id": "9947e3d9",
   "metadata": {},
   "outputs": [
    {
     "name": "stdout",
     "output_type": "stream",
     "text": [
      "28\n",
      "28\n"
     ]
    },
    {
     "data": {
      "image/png": "[encoded data removed]",
      "text/plain": [
       "<Figure size 432x288 with 1 Axes>"
      ]
     },
     "metadata": {
      "needs_background": "light"
     },
     "output_type": "display_data"
    }
   ],
   "source": [
    "dx,dy = radius(psf)\n",
    "print(dx)\n",
    "print(dy)\n",
    "ps = psf_gauss(SIZE_FIGURE,dx,dy)\n",
    "view(ps)"
   ]
  },
  {
   "cell_type": "code",
   "execution_count": 28,
   "id": "36056e0a",
   "metadata": {},
   "outputs": [
    {
     "data": {
      "image/png": "[encoded data removed]",
      "text/plain": [
       "<Figure size 432x288 with 1 Axes>"
      ]
     },
     "metadata": {
      "needs_background": "light"
     },
     "output_type": "display_data"
    }
   ],
   "source": [
    "value = cp.max(psf)/2\n",
    "psf = psf > value\n",
    "view(psf)"
   ]
  },
  {
   "cell_type": "code",
   "execution_count": null,
   "id": "63d3d094",
   "metadata": {},
   "outputs": [],
   "source": []
  },
  {
   "cell_type": "code",
   "execution_count": null,
   "id": "264ac816",
   "metadata": {},
   "outputs": [],
   "source": []
  }
 ],
 "metadata": {
  "kernelspec": {
   "display_name": "Python 3",
   "language": "python",
   "name": "python3"
  },
  "language_info": {
   "codemirror_mode": {
    "name": "ipython",
    "version": 3
   },
   "file_extension": ".py",
   "mimetype": "text/x-python",
   "name": "python",
   "nbconvert_exporter": "python",
   "pygments_lexer": "ipython3",
   "version": "3.9.2"
  }
 },
 "nbformat": 4,
 "nbformat_minor": 5
}
